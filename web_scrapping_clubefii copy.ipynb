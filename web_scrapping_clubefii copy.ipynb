{
 "cells": [
  {
   "cell_type": "code",
   "execution_count": 6,
   "metadata": {},
   "outputs": [
    {
     "name": "stdout",
     "output_type": "stream",
     "text": [
      "Acessando: https://www.clubefii.com.br/fiis/KNCR11\n",
      "✅ KNCR11 coletado com sucesso! - Vacância: N/A, Taxa Adm: N/A\n",
      "Acessando: https://www.clubefii.com.br/fiis/KNIP11\n",
      "✅ KNIP11 coletado com sucesso! - Vacância: N/A, Taxa Adm: N/A\n",
      "Acessando: https://www.clubefii.com.br/fiis/XPML11\n",
      "✅ XPML11 coletado com sucesso! - Vacância: N/A, Taxa Adm: N/A\n",
      "{'fii': 'KNCR11', 'vacancia': 'N/A', 'tx_adm': 'N/A'}\n",
      "{'fii': 'KNIP11', 'vacancia': 'N/A', 'tx_adm': 'N/A'}\n",
      "{'fii': 'XPML11', 'vacancia': 'N/A', 'tx_adm': 'N/A'}\n"
     ]
    }
   ],
   "source": [
    "import cloudscraper\n",
    "from bs4 import BeautifulSoup\n",
    "import time\n",
    "import random\n",
    "import pandas as pd\n",
    "\n",
    "# Lista de FIIs para coleta\n",
    "fundos_ifix = [\n",
    "    \"KNCR11\", \"KNIP11\", \"XPML11\", \"HGLG11\", \"BTLG11\",\n",
    "    \"MXRF11\", \"KNRI11\", \"HGRU11\", \"VISC11\", \"KNHY11\",\n",
    "    \"XPLG11\", \"HGBS11\", \"IRDM11\", \"CPTS11\", \"TRXF11\",\n",
    "    \"TGAR11\", \"PVBI11\", \"RECR11\", \"BCFF11\", \"BRCO11\"\n",
    "]\n",
    "teste = [\n",
    "    \"KNCR11\", \"KNIP11\", \"XPML11\"]\n",
    "# Criando o objeto cloudscraper\n",
    "scraper = cloudscraper.create_scraper()\n",
    "\n",
    "lista_indicadores_fii = []\n",
    "\n",
    "# for fii in fundos_ifix:\n",
    "for fii in teste:\n",
    "    url = f\"https://www.clubefii.com.br/fiis/{fii}\"\n",
    "    print(f\"Acessando: {url}\")\n",
    "\n",
    "    try:\n",
    "        # Faz a requisição e contorna a proteção do Cloudflare\n",
    "        response = scraper.get(url)\n",
    "        response.raise_for_status()  # Gera erro se a requisição falhar\n",
    "\n",
    "        soup = BeautifulSoup(response.text, \"html.parser\")\n",
    "\n",
    "        # Coletando dados da vacância\n",
    "        vacancia_element = soup.select_one(\"#vacancia strong:nth-of-type(2)\")\n",
    "        vacancia = vacancia_element.text.strip() if vacancia_element else \"N/A\"\n",
    "\n",
    "        # Coletando dados da taxa de administração\n",
    "        tx_adm_element = soup.select_one(\"#page-fundo-basico table tbody tr:nth-of-type(3) td:nth-of-type(2) span\")\n",
    "        tx_adm = tx_adm_element.text.strip() if tx_adm_element else \"N/A\"\n",
    "\n",
    "        # Criando dicionário com os dados do FII\n",
    "        dicionario = {\n",
    "            \"fii\": fii,\n",
    "            \"vacancia\": vacancia,\n",
    "            \"tx_adm\": tx_adm\n",
    "        }\n",
    "\n",
    "        lista_indicadores_fii.append(dicionario)\n",
    "        print(f\"✅ {fii} coletado com sucesso! - Vacância: {vacancia}, Taxa Adm: {tx_adm}\")\n",
    "\n",
    "        # Tempo aleatório antes de acessar o próximo fundo (evita bloqueios)\n",
    "        time.sleep(random.uniform(5, 10))\n",
    "\n",
    "    except Exception as e:\n",
    "        print(f\"❌ Erro ao coletar {fii}: {e}\")\n",
    "\n",
    "# Exibe os resultados coletados\n",
    "for item in lista_indicadores_fii:\n",
    "    print(item)\n"
   ]
  },
  {
   "cell_type": "code",
   "execution_count": 2,
   "metadata": {},
   "outputs": [
    {
     "ename": "NameError",
     "evalue": "name 'pd' is not defined",
     "output_type": "error",
     "traceback": [
      "\u001b[1;31m---------------------------------------------------------------------------\u001b[0m",
      "\u001b[1;31mNameError\u001b[0m                                 Traceback (most recent call last)",
      "Cell \u001b[1;32mIn [2], line 1\u001b[0m\n\u001b[1;32m----> 1\u001b[0m df \u001b[38;5;241m=\u001b[39m \u001b[43mpd\u001b[49m\u001b[38;5;241m.\u001b[39mDataFrame\u001b[38;5;241m.\u001b[39mfrom_dict(lista_indicadores_fii)\n",
      "\u001b[1;31mNameError\u001b[0m: name 'pd' is not defined"
     ]
    }
   ],
   "source": [
    "df = pd.DataFrame.from_dict(lista_indicadores_fii)"
   ]
  },
  {
   "cell_type": "code",
   "execution_count": 37,
   "metadata": {},
   "outputs": [
    {
     "data": {
      "text/html": [
       "<div>\n",
       "<style scoped>\n",
       "    .dataframe tbody tr th:only-of-type {\n",
       "        vertical-align: middle;\n",
       "    }\n",
       "\n",
       "    .dataframe tbody tr th {\n",
       "        vertical-align: top;\n",
       "    }\n",
       "\n",
       "    .dataframe thead th {\n",
       "        text-align: right;\n",
       "    }\n",
       "</style>\n",
       "<table border=\"1\" class=\"dataframe\">\n",
       "  <thead>\n",
       "    <tr style=\"text-align: right;\">\n",
       "      <th></th>\n",
       "      <th>fii</th>\n",
       "      <th>vacancia</th>\n",
       "      <th>tx_adm</th>\n",
       "    </tr>\n",
       "  </thead>\n",
       "  <tbody>\n",
       "    <tr>\n",
       "      <th>0</th>\n",
       "      <td>HGLG11</td>\n",
       "      <td>6,7%</td>\n",
       "      <td>0,47%</td>\n",
       "    </tr>\n",
       "  </tbody>\n",
       "</table>\n",
       "</div>"
      ],
      "text/plain": [
       "      fii vacancia tx_adm\n",
       "0  HGLG11     6,7%  0,47%"
      ]
     },
     "execution_count": 37,
     "metadata": {},
     "output_type": "execute_result"
    }
   ],
   "source": [
    "df.head()"
   ]
  },
  {
   "cell_type": "code",
   "execution_count": 38,
   "metadata": {},
   "outputs": [],
   "source": [
    "df.to_excel(\"fiis2.xlsx\", index=False)"
   ]
  }
 ],
 "metadata": {
  "kernelspec": {
   "display_name": "Python 3",
   "language": "python",
   "name": "python3"
  },
  "language_info": {
   "codemirror_mode": {
    "name": "ipython",
    "version": 3
   },
   "file_extension": ".py",
   "mimetype": "text/x-python",
   "name": "python",
   "nbconvert_exporter": "python",
   "pygments_lexer": "ipython3",
   "version": "3.10.11"
  },
  "orig_nbformat": 4
 },
 "nbformat": 4,
 "nbformat_minor": 2
}
