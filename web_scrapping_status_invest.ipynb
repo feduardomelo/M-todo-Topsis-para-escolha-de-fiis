{
 "cells": [
  {
   "cell_type": "code",
   "execution_count": 13,
   "metadata": {},
   "outputs": [],
   "source": [
    "import os\n",
    "import time\n",
    "import pandas as pd\n",
    "from selenium import webdriver\n",
    "from selenium.webdriver.chrome.service import Service \n",
    "from webdriver_manager.chrome import ChromeDriverManager\n",
    "from selenium.webdriver.common.by import By\n",
    "from selenium.webdriver.support.ui import WebDriverWait\n",
    "from selenium.webdriver.support import expected_conditions as EC"
   ]
  },
  {
   "cell_type": "code",
   "execution_count": 28,
   "metadata": {},
   "outputs": [],
   "source": [
    "#Instalando o driver\n",
    "servico = Service(ChromeDriverManager().install())\n",
    "\n",
    "#Abrindo o navegador\n",
    "navegador = webdriver.Chrome(service=servico)"
   ]
  },
  {
   "cell_type": "code",
   "execution_count": 15,
   "metadata": {},
   "outputs": [],
   "source": [
    "lista_fii = [ \"mxrf11\", \"tgar11\", \"ggrc11\", \"recr11\", 'rect11', 'vino11', 'brcr11', 'pvbi11', 'visc11', 'hsml11', 'mfii11' ]\n",
    "fundos_ifix = [\"KNCR11\", \"KNIP11\", \"XPML11\", \"HGLG11\", \"BTLG11\",\n",
    "    \"MXRF11\", \"KNRI11\", \"HGRU11\", \"VISC11\", \"KNHY11\",\n",
    "    \"XPLG11\", \"HGBS11\", \"IRDM11\", \"CPTS11\", \"TRXF11\",\n",
    "    \"TGAR11\", \"PVBI11\", \"RECR11\", \"BCFF11\", \"BRCO11\"]\n",
    "teste = ['HGLG11']\n"
   ]
  },
  {
   "cell_type": "code",
   "execution_count": 29,
   "metadata": {},
   "outputs": [],
   "source": [
    "lista_indicadores_fii = []\n",
    "for fii in fundos_ifix:\n",
    "# for fii in teste:\n",
    "\n",
    "    #Criando url\n",
    "    url = f\"https://statusinvest.com.br/fundos-imobiliarios/{fii}\"\n",
    "\n",
    "    \n",
    "    try:\n",
    "        #Abrindo o navegador\n",
    "        navegador.get(url)\n",
    "\n",
    "        time.sleep(0.25)\n",
    "    \n",
    "        #Coletando infos\n",
    "        segmento = navegador.find_element(By.XPATH, '//*[@id=\"fund-section\"]/div/div/div[4]/div/div[1]/div/div/div/a/strong').text\n",
    "        tipo_anbima = navegador.find_element(By.XPATH, '//*[@id=\"fund-section\"]/div/div/div[2]/div/div[5]/div/div/div/strong').text\n",
    "        valor_atual = navegador.find_element(By.XPATH, '//*[@id=\"main-2\"]/div[2]/div[1]/div[1]/div/div[1]/strong').text\n",
    "        variacao_valor_atual = navegador.find_element(By.XPATH, '//*[@id=\"main-2\"]/div[2]/div[1]/div[1]/div/div[2]/span/b').text\n",
    "        dividend_yield = navegador.find_element(By.XPATH, '//*[@id=\"main-2\"]/div[2]/div[1]/div[4]/div/div[1]/strong').text\n",
    "        valorização_12m = navegador.find_element(By.XPATH, '//*[@id=\"main-2\"]/div[2]/div[1]/div[5]/div/div[1]/strong').text\n",
    "        pvp = navegador.find_element(By.XPATH, '//*[@id=\"main-2\"]/div[2]/div[5]/div/div[2]/div/div[1]/strong').text\n",
    "        caixa = navegador.find_element(By.XPATH, '//*[@id=\"main-2\"]/div[2]/div[5]/div/div[3]/div/div[1]/strong').text\n",
    "        cnpj_fii = navegador.find_element(By.XPATH, '//*[@id=\"fund-section\"]/div/div/div[2]/div/div[1]/div/div/strong').text\n",
    "        administrador = navegador.find_element(By.XPATH, '//*[@id=\"fund-section\"]/div/div/div[3]/div/div[2]/div[1]/div/strong').text\n",
    "        cnpj_administrador = navegador.find_element(By.XPATH, '//*[@id=\"fund-section\"]/div/div/div[3]/div/div[2]/div[1]/div/span').text\n",
    "        liquidez_media = navegador.find_element(By.XPATH, '//*[@id=\"main-2\"]/div[2]/div[6]/div/div/div[3]/div/div/div/strong').text\n",
    "        participação_ifix = navegador.find_element(By.XPATH, '//*[@id=\"main-2\"]/div[2]/div[6]/div/div/div[4]/div/a/div/div/strong').text\n",
    "    \n",
    "\n",
    "        #Criando dict\n",
    "        dicionario = {  \"fii\": fii, \n",
    "                        \"segmento\": segmento,\n",
    "                        \"tipo_anbima\": tipo_anbima, \n",
    "                        \"valor_atual\": valor_atual, \n",
    "                        \"variacao_valor_atual\": variacao_valor_atual, \n",
    "                        \"dividend_yield\": dividend_yield,\n",
    "                        \"valorização_12m\": valorização_12m, \n",
    "                        \"pvp\": pvp,\n",
    "                        \"caixa\": caixa,\n",
    "                        \"cnpj_fii\": cnpj_fii,\n",
    "                        \"administrador\": administrador,\n",
    "                        \"cnpj_administrador\": cnpj_administrador ,\n",
    "                        \"liquidez_diaria_media\": liquidez_media,\n",
    "                        \"participação_ifix\": participação_ifix\n",
    "                        }\n",
    "\n",
    "        #Criando lista de dicts\n",
    "        lista_indicadores_fii.append(dicionario)\n",
    "    except Exception as e:\n",
    "        print(e)\n",
    "\n",
    "#Fecha o navegador\n",
    "navegador.quit()\n",
    "\n"
   ]
  },
  {
   "cell_type": "code",
   "execution_count": 30,
   "metadata": {},
   "outputs": [],
   "source": [
    "df = pd.DataFrame.from_dict(lista_indicadores_fii)"
   ]
  },
  {
   "cell_type": "code",
   "execution_count": 31,
   "metadata": {},
   "outputs": [],
   "source": [
    "df.to_excel(\"fiis.xlsx\", index=False)"
   ]
  }
 ],
 "metadata": {
  "kernelspec": {
   "display_name": "Python 3",
   "language": "python",
   "name": "python3"
  },
  "language_info": {
   "codemirror_mode": {
    "name": "ipython",
    "version": 3
   },
   "file_extension": ".py",
   "mimetype": "text/x-python",
   "name": "python",
   "nbconvert_exporter": "python",
   "pygments_lexer": "ipython3",
   "version": "3.10.11"
  },
  "orig_nbformat": 4
 },
 "nbformat": 4,
 "nbformat_minor": 2
}
